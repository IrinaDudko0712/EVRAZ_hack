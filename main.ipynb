{
  "nbformat": 4,
  "nbformat_minor": 0,
  "metadata": {
    "colab": {
      "provenance": [],
      "mount_file_id": "1X8AR84JJatv7XTaPgxg25Tf95LrjQiRs",
      "authorship_tag": "ABX9TyORa6nxh/560KBE1O4nQL5d",
      "include_colab_link": true
    },
    "kernelspec": {
      "name": "python3",
      "display_name": "Python 3"
    },
    "language_info": {
      "name": "python"
    }
  },
  "cells": [
    {
      "cell_type": "markdown",
      "metadata": {
        "id": "view-in-github",
        "colab_type": "text"
      },
      "source": [
        "<a href=\"https://colab.research.google.com/github/IrinaDudko0712/EVRAZ_hack/blob/main/main.ipynb\" target=\"_parent\"><img src=\"https://colab.research.google.com/assets/colab-badge.svg\" alt=\"Open In Colab\"/></a>"
      ]
    },
    {
      "cell_type": "code",
      "execution_count": 2,
      "metadata": {
        "id": "NlciF11cKkQq",
        "colab": {
          "base_uri": "https://localhost:8080/"
        },
        "outputId": "9adbed0b-bf8e-42cd-a3fb-43cccfc4124a"
      },
      "outputs": [
        {
          "output_type": "stream",
          "name": "stdout",
          "text": [
            "Generating public/private rsa key pair.\n",
            "/root/.ssh/id_rsa already exists.\n",
            "Overwrite (y/n)? ^C\n"
          ]
        }
      ],
      "source": [
        "!ssh-keygen -t rsa -b 4096 -f ~/.ssh/id_rsa -N ''"
      ]
    },
    {
      "cell_type": "code",
      "source": [
        "!ssh-keyscan -t rsa github.com >> ~/.ssh/known_hosts"
      ],
      "metadata": {
        "id": "BZYL0VrPM9BC",
        "colab": {
          "base_uri": "https://localhost:8080/"
        },
        "outputId": "76589b79-e5d6-4889-ec08-da98a03700a9"
      },
      "execution_count": 3,
      "outputs": [
        {
          "output_type": "stream",
          "name": "stdout",
          "text": [
            "# github.com:22 SSH-2.0-babeld-9e2e2a76e\n"
          ]
        }
      ]
    },
    {
      "cell_type": "code",
      "source": [
        "!cat ~/.ssh/id_rsa.pub"
      ],
      "metadata": {
        "id": "lot3KYrVM949"
      },
      "execution_count": null,
      "outputs": []
    },
    {
      "cell_type": "code",
      "source": [
        "!ssh -T git@github.com"
      ],
      "metadata": {
        "id": "KZo_940nNOik",
        "colab": {
          "base_uri": "https://localhost:8080/"
        },
        "outputId": "9d699d66-ab56-435b-dbcf-1fbbbf403db5"
      },
      "execution_count": 5,
      "outputs": [
        {
          "output_type": "stream",
          "name": "stdout",
          "text": [
            "^C\n"
          ]
        }
      ]
    },
    {
      "cell_type": "code",
      "source": [
        "!git config --global user.email ''\n",
        "!git config --global user.name ''"
      ],
      "metadata": {
        "id": "-O2S8u9aLjub"
      },
      "execution_count": 6,
      "outputs": []
    },
    {
      "cell_type": "code",
      "source": [
        "!git clone git@github.com:IrinaDudko0712/EVRAZ_hack.git"
      ],
      "metadata": {
        "id": "Kry4tfSyNUTa"
      },
      "execution_count": null,
      "outputs": []
    },
    {
      "cell_type": "code",
      "source": [
        "%cd EVRAZ_hack"
      ],
      "metadata": {
        "colab": {
          "base_uri": "https://localhost:8080/"
        },
        "id": "LwJfLpbHZSQ1",
        "outputId": "4ce4f8ce-9e70-40c2-8844-2211b29c3fe2"
      },
      "execution_count": 1,
      "outputs": [
        {
          "output_type": "stream",
          "name": "stdout",
          "text": [
            "/content/EVRAZ_hack\n"
          ]
        }
      ]
    },
    {
      "cell_type": "code",
      "source": [
        "!git pull"
      ],
      "metadata": {
        "id": "GiQsU0tITwBZ"
      },
      "execution_count": null,
      "outputs": []
    },
    {
      "cell_type": "code",
      "source": [
        "!git add .\n",
        "!git commit -m \"\"\n",
        "!git push"
      ],
      "metadata": {
        "colab": {
          "base_uri": "https://localhost:8080/"
        },
        "id": "7M-B6pawUpCI",
        "outputId": "b489b2df-d7c5-4205-d7a5-14f30dda3d15"
      },
      "execution_count": 3,
      "outputs": [
        {
          "output_type": "stream",
          "name": "stdout",
          "text": [
            "[main f8f0146] Надеюсь мы достаточно приисполнились в своём познании, чтобы завершить данный код в здравии и светлой памяти, да помогут нам высшие силы програмирования чтобы данный проект заработал как задумывалось\n",
            " 2 files changed, 35 insertions(+), 10 deletions(-)\n",
            "Enumerating objects: 7, done.\n",
            "Counting objects: 100% (7/7), done.\n",
            "Delta compression using up to 2 threads\n",
            "Compressing objects: 100% (4/4), done.\n",
            "Writing objects: 100% (4/4), 1.01 KiB | 1.01 MiB/s, done.\n",
            "Total 4 (delta 3), reused 0 (delta 0), pack-reused 0\n",
            "remote: Resolving deltas: 100% (3/3), completed with 3 local objects.\u001b[K\n",
            "To github.com:IrinaDudko0712/EVRAZ_hack.git\n",
            "   049f819..f8f0146  main -> main\n"
          ]
        }
      ]
    },
    {
      "cell_type": "code",
      "source": [
        "!pip install pyTelegramBotAPI faiss-cpu sentence_transformers isort yapf flake8 pylint\n",
        "!pip install radon autopep8 black vulture requests pandas\n"
      ],
      "metadata": {
        "id": "l_yEpFdTNb6e"
      },
      "execution_count": null,
      "outputs": []
    },
    {
      "cell_type": "code",
      "source": [
        "from telegram_bot_operate import telegram_bot_operate\n",
        "from check_file import check_file\n",
        "from archive_analysis import archive_analysis\n",
        "import os\n",
        "\n",
        "def test_chek(input):\n",
        "  f = open(\"output.md\", \"w\")\n",
        "  f.write(\"output\")\n",
        "  f_copy = open(\"output.md\", \"r\")\n",
        "  f.close()\n",
        "  os.remove(\"output.md\")\n",
        "\n",
        "  return f_copy\n",
        "\n",
        "\n",
        "telegram_bot_operate(token=\"8110573845:AAF6BqEwf5KMRAdsvtPieWtHpmXty3dm7jc\",\n",
        "                     check_file_=check_file,\n",
        "                     check_mess_=test_chek,\n",
        "                     check_archive_=archive_analysis)\n"
      ],
      "metadata": {
        "colab": {
          "base_uri": "https://localhost:8080/"
        },
        "id": "VuPWMHxoOKen",
        "outputId": "be6198f4-7112-44c3-bab0-16ed7e6efbdf"
      },
      "execution_count": 2,
      "outputs": [
        {
          "output_type": "stream",
          "name": "stderr",
          "text": [
            "/usr/local/lib/python3.10/dist-packages/sentence_transformers/cross_encoder/CrossEncoder.py:13: TqdmExperimentalWarning: Using `tqdm.autonotebook.tqdm` in notebook mode. Use `tqdm.tqdm` instead to force console mode (e.g. in jupyter console)\n",
            "  from tqdm.autonotebook import tqdm, trange\n",
            "/usr/local/lib/python3.10/dist-packages/huggingface_hub/utils/_auth.py:94: UserWarning: \n",
            "The secret `HF_TOKEN` does not exist in your Colab secrets.\n",
            "To authenticate with the Hugging Face Hub, create a token in your settings tab (https://huggingface.co/settings/tokens), set it as secret in your Google Colab and restart your session.\n",
            "You will be able to reuse this secret in all of your notebooks.\n",
            "Please note that authentication is recommended but still optional to access public models or datasets.\n",
            "  warnings.warn(\n"
          ]
        },
        {
          "output_type": "stream",
          "name": "stdout",
          "text": [
            "Folder structure in Markdown format for 'uploaded_archive' saved to: ./uploaded_archive_folder_structure.md\n",
            "Report saved to CSV: ./uploaded_archive_structure_check_result.csv\n",
            "Report saved to TXT: ./uploaded_archive_structure_check_result.txt\n",
            "Ошибка: 400 {\"error\": {\"message\": \"(psycopg2.OperationalError) connection to server at \\\"84.201.152.196\\\", port 5432 failed: FATAL:  out of shared memory\\nHINT:  You might need to increase max_locks_per_transaction.\\n\\n(Background on this error at: https://sqlalche.me/e/20/e3q8)\"}}\n"
          ]
        }
      ]
    }
  ]
}