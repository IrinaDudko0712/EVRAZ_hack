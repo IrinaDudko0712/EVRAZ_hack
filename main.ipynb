{
  "nbformat": 4,
  "nbformat_minor": 0,
  "metadata": {
    "colab": {
      "provenance": [],
      "mount_file_id": "1X8AR84JJatv7XTaPgxg25Tf95LrjQiRs",
      "authorship_tag": "ABX9TyOEQNXhJa6//Q76je/0TsYy",
      "include_colab_link": true
    },
    "kernelspec": {
      "name": "python3",
      "display_name": "Python 3"
    },
    "language_info": {
      "name": "python"
    }
  },
  "cells": [
    {
      "cell_type": "markdown",
      "metadata": {
        "id": "view-in-github",
        "colab_type": "text"
      },
      "source": [
        "<a href=\"https://colab.research.google.com/github/IrinaDudko0712/EVRAZ_hack/blob/main/main.ipynb\" target=\"_parent\"><img src=\"https://colab.research.google.com/assets/colab-badge.svg\" alt=\"Open In Colab\"/></a>"
      ]
    },
    {
      "cell_type": "code",
      "execution_count": null,
      "metadata": {
        "id": "NlciF11cKkQq"
      },
      "outputs": [],
      "source": [
        "!ssh-keygen -t rsa -b 4096 -f ~/.ssh/id_rsa -N ''"
      ]
    },
    {
      "cell_type": "code",
      "source": [
        "!ssh-keyscan -t rsa github.com >> ~/.ssh/known_hosts"
      ],
      "metadata": {
        "id": "BZYL0VrPM9BC"
      },
      "execution_count": null,
      "outputs": []
    },
    {
      "cell_type": "code",
      "source": [
        "!cat ~/.ssh/id_rsa.pub"
      ],
      "metadata": {
        "id": "lot3KYrVM949"
      },
      "execution_count": null,
      "outputs": []
    },
    {
      "cell_type": "code",
      "source": [
        "!ssh -T git@github.com"
      ],
      "metadata": {
        "id": "KZo_940nNOik"
      },
      "execution_count": null,
      "outputs": []
    },
    {
      "cell_type": "code",
      "source": [
        "!git config --global user.email 'senya2708@gmail.com'\n",
        "!git config --global user.name 'Semelion'"
      ],
      "metadata": {
        "id": "-O2S8u9aLjub"
      },
      "execution_count": null,
      "outputs": []
    },
    {
      "cell_type": "code",
      "source": [
        "!git clone git@github.com:IrinaDudko0712/EVRAZ_hack.git"
      ],
      "metadata": {
        "id": "Kry4tfSyNUTa"
      },
      "execution_count": null,
      "outputs": []
    },
    {
      "cell_type": "code",
      "source": [
        "%cd EVRAZ_hack"
      ],
      "metadata": {
        "id": "LwJfLpbHZSQ1"
      },
      "execution_count": null,
      "outputs": []
    },
    {
      "cell_type": "code",
      "source": [
        "#%cd EVRAZ_hack\n",
        "!git pull"
      ],
      "metadata": {
        "id": "GiQsU0tITwBZ"
      },
      "execution_count": null,
      "outputs": []
    },
    {
      "cell_type": "code",
      "source": [
        "!git add .\n",
        "!git commit -m \"fix main work\"\n",
        "!git push"
      ],
      "metadata": {
        "id": "7M-B6pawUpCI"
      },
      "execution_count": null,
      "outputs": []
    },
    {
      "cell_type": "code",
      "source": [
        "!pip install pyTelegramBotAPI faiss-cpu sentence_transformers isort yapf flake8 pylint\n",
        "!pip install radon autopep8 black vulture\n"
      ],
      "metadata": {
        "id": "l_yEpFdTNb6e"
      },
      "execution_count": null,
      "outputs": []
    },
    {
      "cell_type": "code",
      "source": [
        "from telegram_bot_operate import telegram_bot_operate\n",
        "from check_file import check_file\n",
        "\n",
        "\n",
        "def test_chek(input):\n",
        "  f = open(\"/content/EVRAZ_hack/securities_report.pdf\", \"rb\")\n",
        "  return f\n",
        "\n",
        "telegram_bot_operate(token=\"8110573845:AAF6BqEwf5KMRAdsvtPieWtHpmXty3dm7jc\",\n",
        "                     check_file_=test_chek,\n",
        "                     check_mess_=test_chek,\n",
        "                     check_archive_=test_chek)\n"
      ],
      "metadata": {
        "id": "VuPWMHxoOKen"
      },
      "execution_count": 14,
      "outputs": []
    }
  ]
}