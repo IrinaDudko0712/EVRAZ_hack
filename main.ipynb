{
  "nbformat": 4,
  "nbformat_minor": 0,
  "metadata": {
    "colab": {
      "provenance": [],
      "mount_file_id": "1X8AR84JJatv7XTaPgxg25Tf95LrjQiRs",
      "authorship_tag": "ABX9TyM319dhHVtAL5bTsXwGM/t7",
      "include_colab_link": true
    },
    "kernelspec": {
      "name": "python3",
      "display_name": "Python 3"
    },
    "language_info": {
      "name": "python"
    }
  },
  "cells": [
    {
      "cell_type": "markdown",
      "metadata": {
        "id": "view-in-github",
        "colab_type": "text"
      },
      "source": [
        "<a href=\"https://colab.research.google.com/github/IrinaDudko0712/EVRAZ_hack/blob/main/main.ipynb\" target=\"_parent\"><img src=\"https://colab.research.google.com/assets/colab-badge.svg\" alt=\"Open In Colab\"/></a>"
      ]
    },
    {
      "cell_type": "code",
      "execution_count": null,
      "metadata": {
        "id": "NlciF11cKkQq"
      },
      "outputs": [],
      "source": [
        "!ssh-keygen -t rsa -b 4096 -f ~/.ssh/id_rsa -N ''"
      ]
    },
    {
      "cell_type": "code",
      "source": [
        "!ssh-keyscan -t rsa github.com >> ~/.ssh/known_hosts"
      ],
      "metadata": {
        "id": "BZYL0VrPM9BC"
      },
      "execution_count": null,
      "outputs": []
    },
    {
      "cell_type": "code",
      "source": [
        "!cat ~/.ssh/id_rsa.pub"
      ],
      "metadata": {
        "id": "lot3KYrVM949"
      },
      "execution_count": null,
      "outputs": []
    },
    {
      "cell_type": "code",
      "source": [
        "!ssh -T git@github.com"
      ],
      "metadata": {
        "id": "KZo_940nNOik"
      },
      "execution_count": null,
      "outputs": []
    },
    {
      "cell_type": "code",
      "source": [
        "!git config --global user.email 'senya2708@gmail.com'\n",
        "!git config --global user.name 'Semelion'"
      ],
      "metadata": {
        "id": "-O2S8u9aLjub"
      },
      "execution_count": 7,
      "outputs": []
    },
    {
      "cell_type": "code",
      "source": [
        "!git clone git@github.com:IrinaDudko0712/EVRAZ_hack.git"
      ],
      "metadata": {
        "id": "Kry4tfSyNUTa"
      },
      "execution_count": null,
      "outputs": []
    },
    {
      "cell_type": "code",
      "source": [
        "%cd EVRAZ_hack"
      ],
      "metadata": {
        "colab": {
          "base_uri": "https://localhost:8080/"
        },
        "id": "LwJfLpbHZSQ1",
        "outputId": "e48f5dba-080c-4bd0-d35a-e9a4de5f48b4"
      },
      "execution_count": 1,
      "outputs": [
        {
          "output_type": "stream",
          "name": "stdout",
          "text": [
            "/content/EVRAZ_hack\n"
          ]
        }
      ]
    },
    {
      "cell_type": "code",
      "source": [
        "#%cd EVRAZ_hack\n",
        "!git pull"
      ],
      "metadata": {
        "colab": {
          "base_uri": "https://localhost:8080/"
        },
        "id": "GiQsU0tITwBZ",
        "outputId": "53b89cfd-9f58-41cf-c072-6609ce879d60"
      },
      "execution_count": 5,
      "outputs": [
        {
          "output_type": "stream",
          "name": "stdout",
          "text": [
            "remote: Enumerating objects: 5, done.\u001b[K\n",
            "remote: Counting objects:  20% (1/5)\u001b[K\rremote: Counting objects:  40% (2/5)\u001b[K\rremote: Counting objects:  60% (3/5)\u001b[K\rremote: Counting objects:  80% (4/5)\u001b[K\rremote: Counting objects: 100% (5/5)\u001b[K\rremote: Counting objects: 100% (5/5), done.\u001b[K\n",
            "remote: Compressing objects: 100% (1/1)\u001b[K\rremote: Compressing objects: 100% (1/1), done.\u001b[K\n",
            "remote: Total 3 (delta 2), reused 3 (delta 2), pack-reused 0 (from 0)\u001b[K\n",
            "Unpacking objects:  33% (1/3)\rUnpacking objects:  66% (2/3)\rUnpacking objects: 100% (3/3)\rUnpacking objects: 100% (3/3), 273 bytes | 273.00 KiB/s, done.\n",
            "From github.com:IrinaDudko0712/EVRAZ_hack\n",
            "   135390b..be865c7  main       -> origin/main\n",
            "Updating 135390b..be865c7\n",
            "Fast-forward\n",
            " telegram_bot_operate.py | 2 \u001b[32m+\u001b[m\u001b[31m-\u001b[m\n",
            " 1 file changed, 1 insertion(+), 1 deletion(-)\n"
          ]
        }
      ]
    },
    {
      "cell_type": "code",
      "source": [
        "!pip install pyTelegramBotAPI faiss-cpu sentence_transformers isort yapf flake8 pylint\n",
        "!pip install radon autopep8 black vulture\n"
      ],
      "metadata": {
        "colab": {
          "base_uri": "https://localhost:8080/"
        },
        "id": "l_yEpFdTNb6e",
        "outputId": "e03dd493-9826-4124-8ee4-63afe57377ae"
      },
      "execution_count": 3,
      "outputs": [
        {
          "output_type": "stream",
          "name": "stdout",
          "text": [
            "Requirement already satisfied: pyTelegramBotAPI in /usr/local/lib/python3.10/dist-packages (4.24.0)\n",
            "Requirement already satisfied: faiss-cpu in /usr/local/lib/python3.10/dist-packages (1.9.0.post1)\n",
            "Requirement already satisfied: sentence_transformers in /usr/local/lib/python3.10/dist-packages (3.2.1)\n",
            "Requirement already satisfied: isort in /usr/local/lib/python3.10/dist-packages (5.13.2)\n",
            "Requirement already satisfied: yapf in /usr/local/lib/python3.10/dist-packages (0.43.0)\n",
            "Requirement already satisfied: flake8 in /usr/local/lib/python3.10/dist-packages (7.1.1)\n",
            "Requirement already satisfied: pylint in /usr/local/lib/python3.10/dist-packages (3.3.1)\n",
            "Requirement already satisfied: requests in /usr/local/lib/python3.10/dist-packages (from pyTelegramBotAPI) (2.32.3)\n",
            "Requirement already satisfied: numpy<3.0,>=1.25.0 in /usr/local/lib/python3.10/dist-packages (from faiss-cpu) (1.26.4)\n",
            "Requirement already satisfied: packaging in /usr/local/lib/python3.10/dist-packages (from faiss-cpu) (24.2)\n",
            "Requirement already satisfied: transformers<5.0.0,>=4.41.0 in /usr/local/lib/python3.10/dist-packages (from sentence_transformers) (4.46.2)\n",
            "Requirement already satisfied: tqdm in /usr/local/lib/python3.10/dist-packages (from sentence_transformers) (4.66.6)\n",
            "Requirement already satisfied: torch>=1.11.0 in /usr/local/lib/python3.10/dist-packages (from sentence_transformers) (2.5.1+cu121)\n",
            "Requirement already satisfied: scikit-learn in /usr/local/lib/python3.10/dist-packages (from sentence_transformers) (1.5.2)\n",
            "Requirement already satisfied: scipy in /usr/local/lib/python3.10/dist-packages (from sentence_transformers) (1.13.1)\n",
            "Requirement already satisfied: huggingface-hub>=0.20.0 in /usr/local/lib/python3.10/dist-packages (from sentence_transformers) (0.26.2)\n",
            "Requirement already satisfied: Pillow in /usr/local/lib/python3.10/dist-packages (from sentence_transformers) (11.0.0)\n",
            "Requirement already satisfied: platformdirs>=3.5.1 in /usr/local/lib/python3.10/dist-packages (from yapf) (4.3.6)\n",
            "Requirement already satisfied: tomli>=2.0.1 in /usr/local/lib/python3.10/dist-packages (from yapf) (2.1.0)\n",
            "Requirement already satisfied: mccabe<0.8.0,>=0.7.0 in /usr/local/lib/python3.10/dist-packages (from flake8) (0.7.0)\n",
            "Requirement already satisfied: pycodestyle<2.13.0,>=2.12.0 in /usr/local/lib/python3.10/dist-packages (from flake8) (2.12.1)\n",
            "Requirement already satisfied: pyflakes<3.3.0,>=3.2.0 in /usr/local/lib/python3.10/dist-packages (from flake8) (3.2.0)\n",
            "Requirement already satisfied: astroid<=3.4.0-dev0,>=3.3.4 in /usr/local/lib/python3.10/dist-packages (from pylint) (3.3.5)\n",
            "Requirement already satisfied: tomlkit>=0.10.1 in /usr/local/lib/python3.10/dist-packages (from pylint) (0.13.2)\n",
            "Requirement already satisfied: dill>=0.2 in /usr/local/lib/python3.10/dist-packages (from pylint) (0.3.9)\n",
            "Requirement already satisfied: typing-extensions>=4.0.0 in /usr/local/lib/python3.10/dist-packages (from astroid<=3.4.0-dev0,>=3.3.4->pylint) (4.12.2)\n",
            "Requirement already satisfied: filelock in /usr/local/lib/python3.10/dist-packages (from huggingface-hub>=0.20.0->sentence_transformers) (3.16.1)\n",
            "Requirement already satisfied: fsspec>=2023.5.0 in /usr/local/lib/python3.10/dist-packages (from huggingface-hub>=0.20.0->sentence_transformers) (2024.10.0)\n",
            "Requirement already satisfied: pyyaml>=5.1 in /usr/local/lib/python3.10/dist-packages (from huggingface-hub>=0.20.0->sentence_transformers) (6.0.2)\n",
            "Requirement already satisfied: networkx in /usr/local/lib/python3.10/dist-packages (from torch>=1.11.0->sentence_transformers) (3.4.2)\n",
            "Requirement already satisfied: jinja2 in /usr/local/lib/python3.10/dist-packages (from torch>=1.11.0->sentence_transformers) (3.1.4)\n",
            "Requirement already satisfied: sympy==1.13.1 in /usr/local/lib/python3.10/dist-packages (from torch>=1.11.0->sentence_transformers) (1.13.1)\n",
            "Requirement already satisfied: mpmath<1.4,>=1.1.0 in /usr/local/lib/python3.10/dist-packages (from sympy==1.13.1->torch>=1.11.0->sentence_transformers) (1.3.0)\n",
            "Requirement already satisfied: regex!=2019.12.17 in /usr/local/lib/python3.10/dist-packages (from transformers<5.0.0,>=4.41.0->sentence_transformers) (2024.9.11)\n",
            "Requirement already satisfied: safetensors>=0.4.1 in /usr/local/lib/python3.10/dist-packages (from transformers<5.0.0,>=4.41.0->sentence_transformers) (0.4.5)\n",
            "Requirement already satisfied: tokenizers<0.21,>=0.20 in /usr/local/lib/python3.10/dist-packages (from transformers<5.0.0,>=4.41.0->sentence_transformers) (0.20.3)\n",
            "Requirement already satisfied: charset-normalizer<4,>=2 in /usr/local/lib/python3.10/dist-packages (from requests->pyTelegramBotAPI) (3.4.0)\n",
            "Requirement already satisfied: idna<4,>=2.5 in /usr/local/lib/python3.10/dist-packages (from requests->pyTelegramBotAPI) (3.10)\n",
            "Requirement already satisfied: urllib3<3,>=1.21.1 in /usr/local/lib/python3.10/dist-packages (from requests->pyTelegramBotAPI) (2.2.3)\n",
            "Requirement already satisfied: certifi>=2017.4.17 in /usr/local/lib/python3.10/dist-packages (from requests->pyTelegramBotAPI) (2024.8.30)\n",
            "Requirement already satisfied: joblib>=1.2.0 in /usr/local/lib/python3.10/dist-packages (from scikit-learn->sentence_transformers) (1.4.2)\n",
            "Requirement already satisfied: threadpoolctl>=3.1.0 in /usr/local/lib/python3.10/dist-packages (from scikit-learn->sentence_transformers) (3.5.0)\n",
            "Requirement already satisfied: MarkupSafe>=2.0 in /usr/local/lib/python3.10/dist-packages (from jinja2->torch>=1.11.0->sentence_transformers) (3.0.2)\n",
            "Requirement already satisfied: radon in /usr/local/lib/python3.10/dist-packages (6.0.1)\n",
            "Requirement already satisfied: autopep8 in /usr/local/lib/python3.10/dist-packages (2.3.1)\n",
            "Requirement already satisfied: black in /usr/local/lib/python3.10/dist-packages (24.10.0)\n",
            "Requirement already satisfied: vulture in /usr/local/lib/python3.10/dist-packages (2.13)\n",
            "Requirement already satisfied: mando<0.8,>=0.6 in /usr/local/lib/python3.10/dist-packages (from radon) (0.7.1)\n",
            "Requirement already satisfied: colorama>=0.4.1 in /usr/local/lib/python3.10/dist-packages (from radon) (0.4.6)\n",
            "Requirement already satisfied: pycodestyle>=2.12.0 in /usr/local/lib/python3.10/dist-packages (from autopep8) (2.12.1)\n",
            "Requirement already satisfied: tomli in /usr/local/lib/python3.10/dist-packages (from autopep8) (2.1.0)\n",
            "Requirement already satisfied: click>=8.0.0 in /usr/local/lib/python3.10/dist-packages (from black) (8.1.7)\n",
            "Requirement already satisfied: mypy-extensions>=0.4.3 in /usr/local/lib/python3.10/dist-packages (from black) (1.0.0)\n",
            "Requirement already satisfied: packaging>=22.0 in /usr/local/lib/python3.10/dist-packages (from black) (24.2)\n",
            "Requirement already satisfied: pathspec>=0.9.0 in /usr/local/lib/python3.10/dist-packages (from black) (0.12.1)\n",
            "Requirement already satisfied: platformdirs>=2 in /usr/local/lib/python3.10/dist-packages (from black) (4.3.6)\n",
            "Requirement already satisfied: typing-extensions>=4.0.1 in /usr/local/lib/python3.10/dist-packages (from black) (4.12.2)\n",
            "Requirement already satisfied: six in /usr/local/lib/python3.10/dist-packages (from mando<0.8,>=0.6->radon) (1.16.0)\n"
          ]
        }
      ]
    },
    {
      "cell_type": "code",
      "source": [
        "from telegram_bot_operate import telegram_bot_operate\n",
        "from check_file import check_file\n",
        "\n",
        "telegram_bot_operate(token=\"8110573845:AAF6BqEwf5KMRAdsvtPieWtHpmXty3dm7jc\",\n",
        "                     check_file_=check_file,\n",
        "                     check_mess_=check_file)\n",
        "# test_code = \"\"\"\n",
        "# import os, sys\n",
        "# def add(a,b):return a+b\n",
        "\n",
        "# def  multiply( a, b ): return a*b\n",
        "\n",
        "# c='berry'\n",
        "# n=5\n",
        "# mul_numbers=multiply( c, n )\n",
        "# add_numbers=add(c,n)\n",
        "# \"\"\"\n",
        "# print(check_file(test_code))"
      ],
      "metadata": {
        "colab": {
          "base_uri": "https://localhost:8080/"
        },
        "id": "VuPWMHxoOKen",
        "outputId": "a0731bbc-5eff-4152-98d2-eb7d4b1a309e"
      },
      "execution_count": 6,
      "outputs": [
        {
          "output_type": "stream",
          "name": "stderr",
          "text": [
            "/usr/local/lib/python3.10/dist-packages/sentence_transformers/cross_encoder/CrossEncoder.py:13: TqdmExperimentalWarning: Using `tqdm.autonotebook.tqdm` in notebook mode. Use `tqdm.tqdm` instead to force console mode (e.g. in jupyter console)\n",
            "  from tqdm.autonotebook import tqdm, trange\n",
            "/usr/local/lib/python3.10/dist-packages/huggingface_hub/utils/_auth.py:94: UserWarning: \n",
            "The secret `HF_TOKEN` does not exist in your Colab secrets.\n",
            "To authenticate with the Hugging Face Hub, create a token in your settings tab (https://huggingface.co/settings/tokens), set it as secret in your Google Colab and restart your session.\n",
            "You will be able to reuse this secret in all of your notebooks.\n",
            "Please note that authentication is recommended but still optional to access public models or datasets.\n",
            "  warnings.warn(\n"
          ]
        },
        {
          "output_type": "stream",
          "name": "stdout",
          "text": [
            "Форматирование импортов с помощью isort:\n",
            "import os\n",
            "import sys\n",
            "\n",
            "\n",
            "def add(a,b):return a+b \n",
            " \n",
            "def  multiply( a, b ): return a*b \n",
            " \n",
            "c='berry' \n",
            "n=5 \n",
            "mul_numbers=multiply( c, n ) \n",
            "add_numbers=add(c,n)\n",
            "\n",
            "Форматирование кода с помощью yapf:\n",
            "import os\n",
            "import sys\n",
            "\n",
            "\n",
            "def add(a,b):return a+b \n",
            " \n",
            "def  multiply( a, b ): return a*b \n",
            " \n",
            "c='berry' \n",
            "n=5 \n",
            "mul_numbers=multiply( c, n ) \n",
            "add_numbers=add(c,n)\n",
            "\n",
            "Тестирование поиска в базе знаний:\n",
            "Запрос: Что такое PEP 8?\n",
            " Результат: yapf форматирует код с учетом стилей PEP 8 и пользовательских конфигураций.\n",
            "\n",
            "Тестирование flake8:\n",
            "test_code.py:1:1: F401 'os' imported but unused\n",
            "test_code.py:2:1: F401 'sys' imported but unused\n",
            "test_code.py:5:10: E231 missing whitespace after ','\n",
            "test_code.py:5:13: E231 missing whitespace after ':'\n",
            "test_code.py:5:24: W291 trailing whitespace\n",
            "test_code.py:6:1: W293 blank line contains whitespace\n",
            "test_code.py:7:1: E302 expected 2 blank lines, found 1\n",
            "test_code.py:7:4: E271 multiple spaces after keyword\n",
            "test_code.py:7:15: E201 whitespace after '('\n",
            "test_code.py:7:20: E202 whitespace before ')'\n",
            "test_code.py:7:34: W291 trailing whitespace\n",
            "test_code.py:8:1: W293 blank line contains whitespace\n",
            "test_code.py:9:1: E305 expected 2 blank lines after class or function definition, found 1\n",
            "test_code.py:9:2: E225 missing whitespace around operator\n",
            "test_code.py:9:10: W291 trailing whitespace\n",
            "test_code.py:10:2: E225 missing whitespace around operator\n",
            "test_code.py:10:4: W291 trailing whitespace\n",
            "test_code.py:11:12: E225 missing whitespace around operator\n",
            "test_code.py:11:22: E201 whitespace after '('\n",
            "test_code.py:11:27: E202 whitespace before ')'\n",
            "test_code.py:11:29: W291 trailing whitespace\n",
            "test_code.py:12:12: E225 missing whitespace around operator\n",
            "test_code.py:12:18: E231 missing whitespace after ','\n",
            "test_code.py:12:21: W292 no newline at end of file\n",
            "\n",
            "Тестирование pylint:\n",
            "************* Module test_code\n",
            "test_code.py:5:23: C0303: Trailing whitespace (trailing-whitespace)\n",
            "test_code.py:6:0: C0303: Trailing whitespace (trailing-whitespace)\n",
            "test_code.py:7:33: C0303: Trailing whitespace (trailing-whitespace)\n",
            "test_code.py:8:0: C0303: Trailing whitespace (trailing-whitespace)\n",
            "test_code.py:9:9: C0303: Trailing whitespace (trailing-whitespace)\n",
            "test_code.py:10:3: C0303: Trailing whitespace (trailing-whitespace)\n",
            "test_code.py:11:28: C0303: Trailing whitespace (trailing-whitespace)\n",
            "test_code.py:12:0: C0304: Final newline missing (missing-final-newline)\n",
            "test_code.py:1:0: C0114: Missing module docstring (missing-module-docstring)\n",
            "test_code.py:5:0: C0116: Missing function or method docstring (missing-function-docstring)\n",
            "test_code.py:5:13: C0321: More than one statement on a single line (multiple-statements)\n",
            "test_code.py:7:0: C0116: Missing function or method docstring (missing-function-docstring)\n",
            "test_code.py:7:23: C0321: More than one statement on a single line (multiple-statements)\n",
            "test_code.py:9:0: C0103: Constant name \"c\" doesn't conform to UPPER_CASE naming style (invalid-name)\n",
            "test_code.py:10:0: C0103: Constant name \"n\" doesn't conform to UPPER_CASE naming style (invalid-name)\n",
            "test_code.py:11:0: C0103: Constant name \"mul_numbers\" doesn't conform to UPPER_CASE naming style (invalid-name)\n",
            "test_code.py:1:0: W0611: Unused import os (unused-import)\n",
            "test_code.py:2:0: W0611: Unused import sys (unused-import)\n",
            "\n",
            "------------------------------------------------------------------\n",
            "Your code has been rated at 0.00/10 (previous run: 0.00/10, +0.00)\n",
            "\n",
            "Тестирование radon:\n",
            "test_code.py\n",
            "    F 5:0 add - A\n",
            "    F 7:0 multiply - A\n",
            "\n",
            "2 blocks (classes, functions, methods) analyzed.\n",
            "Average complexity: A (1.0)\n",
            "\n",
            "Форматирование кода с помощью autopep8:\n",
            "import os\n",
            "import sys\n",
            "\n",
            "\n",
            "def add(a, b): return a + b\n",
            "\n",
            "\n",
            "def multiply(a, b): return a * b\n",
            "\n",
            "\n",
            "c = 'berry'\n",
            "n = 5\n",
            "mul_numbers = multiply(c, n)\n",
            "add_numbers = add(c, n)\n",
            "\n",
            "\n",
            "Форматирование кода с помощью black:\n",
            "import os\n",
            "import sys\n",
            "\n",
            "\n",
            "def add(a, b):\n",
            "    return a + b\n",
            "\n",
            "\n",
            "def multiply(a, b):\n",
            "    return a * b\n",
            "\n",
            "\n",
            "c = \"berry\"\n",
            "n = 5\n",
            "mul_numbers = multiply(c, n)\n",
            "add_numbers = add(c, n)\n",
            "\n",
            "Результаты анализа с помощью vulture:\n",
            "test_code.py:1: unused import 'os' (90% confidence)\n",
            "test_code.py:15: unused variable 'mul_numbers' (60% confidence)\n",
            "test_code.py:16: unused variable 'add_numbers' (60% confidence)\n",
            "\n"
          ]
        }
      ]
    }
  ]
}